{
 "cells": [
  {
   "cell_type": "code",
   "execution_count": 16,
   "metadata": {},
   "outputs": [],
   "source": [
    "import pyarrow.parquet as pq\n",
    "import pyarrow as pa\n",
    "import pyarrow.compute as pc\n",
    "import numpy as np\n",
    "import pandas as pd\n",
    "import matplotlib.pyplot as plt\n",
    "\n",
    "\n"
   ]
  },
  {
   "cell_type": "code",
   "execution_count": 17,
   "metadata": {},
   "outputs": [],
   "source": [
    "import duckdb"
   ]
  },
  {
   "cell_type": "code",
   "execution_count": null,
   "metadata": {},
   "outputs": [],
   "source": [
    "\n"
   ]
  },
  {
   "cell_type": "code",
   "execution_count": 18,
   "metadata": {},
   "outputs": [
    {
     "name": "stdout",
     "output_type": "stream",
     "text": [
      "              load_ts         batch_id  \\\n",
      "0 2020-07-23 03:31:58  20200722-200233   \n",
      "1 2020-09-14 03:48:44  20200913-200233   \n",
      "\n",
      "                                           audit_zip  \\\n",
      "0  2020072301-i-040171543e1bfef37-jIaExLdxncKWJ3J...   \n",
      "1  2020091319-i-04a9a906e1cd5620c-ynxe8XAXdxUbNWc...   \n",
      "\n",
      "                                 audit_internal_path  \\\n",
      "0  SURV8__EventLogCollectionAnalyzerTask_74f2d193...   \n",
      "1  SURV8__EventLogCollectionAnalyzerTask_cf1e9b8b...   \n",
      "\n",
      "                               guid                  event_name  \\\n",
      "0  74f2d1932dc04bb49906308be466a688  kernel_general_12_os_start   \n",
      "1  cf1e9b8b99874405bce67b0124f68612         Generic WLAN Events   \n",
      "\n",
      "                           provider event_id                create_time  \\\n",
      "0  Microsoft-Windows-Kernel-General       12 2020-07-22 03:39:55.109954   \n",
      "1                          Netwtw06     7021 2020-09-12 20:31:20.702643   \n",
      "\n",
      "   create_dt channel                              hash  \n",
      "0 2020-07-22  System  00000003d90a5bb008daf24471a92ccd  \n",
      "1 2020-09-12  System  00000025c695ddae283d0e7d5eee5d68  \n"
     ]
    }
   ],
   "source": [
    "import duckdb\n",
    "\n",
    "parquet_file = r\"D:/CapstoneTyler/0003_part_00.parquet\"  # Use raw string for the file path\n",
    "\n",
    "# Connect to DuckDB\n",
    "con = duckdb.connect()\n",
    "\n",
    "# Query to select the first 20 rows from the Parquet file\n",
    "query = f\"SELECT * FROM read_parquet('{parquet_file}') LIMIT 2\"\n",
    "\n",
    "# Execute the query and fetch the results\n",
    "result = con.execute(query).fetchdf()\n",
    "\n",
    "# Print the result\n",
    "print(result)"
   ]
  },
  {
   "cell_type": "code",
   "execution_count": null,
   "metadata": {},
   "outputs": [
    {
     "data": {
      "application/vnd.jupyter.widget-view+json": {
       "model_id": "d56f268a10a74462ad947b908d518cb8",
       "version_major": 2,
       "version_minor": 0
      },
      "text/plain": [
       "FloatProgress(value=0.0, layout=Layout(width='auto'), style=ProgressStyle(bar_color='black'))"
      ]
     },
     "metadata": {},
     "output_type": "display_data"
    }
   ],
   "source": [
    "parquet_dir = \"D:/CapstoneTyler\"\n",
    "\n",
    "con = duckdb.connect()\n",
    "\n",
    "query = f\"\"\"\n",
    "SELECT * FROM read_parquet('{parquet_dir}/0007_part_36.parquet')\n",
    "\"\"\"\n",
    "\n",
    "df = con.execute(query).df()\n",
    "\n",
    "\n"
   ]
  },
  {
   "cell_type": "code",
   "execution_count": 31,
   "metadata": {},
   "outputs": [
    {
     "data": {
      "application/vnd.jupyter.widget-view+json": {
       "model_id": "a023780531f84c03a5c62e68f3e94b21",
       "version_major": 2,
       "version_minor": 0
      },
      "text/plain": [
       "FloatProgress(value=0.0, layout=Layout(width='auto'), style=ProgressStyle(bar_color='black'))"
      ]
     },
     "metadata": {},
     "output_type": "display_data"
    },
    {
     "name": "stdout",
     "output_type": "stream",
     "text": [
      "   total_filtered_guids  total_with_1001  percentage_with_1001\n",
      "0                  7377              698              9.461841\n"
     ]
    }
   ],
   "source": [
    "parquet_dir = \"D:/CapstoneTyler\"\n",
    "\n",
    "# Corrected SQL query\n",
    "query = f\"\"\"\n",
    "WITH filtered_guids AS (\n",
    "    SELECT guid, COUNT(*) AS occurrence_count\n",
    "    FROM read_parquet('{parquet_dir}/0003_part_36.parquet')\n",
    "    WHERE event_id = '19'\n",
    "    GROUP BY guid\n",
    "    HAVING COUNT(*) BETWEEN 0 and 9\n",
    "),\n",
    "guids_with_1001 AS (\n",
    "    SELECT DISTINCT guid\n",
    "    FROM read_parquet('{parquet_dir}/0003_part_36.parquet')\n",
    "    WHERE event_id LIKE '%41%'\n",
    ")\n",
    "SELECT \n",
    "    (SELECT COUNT(*) FROM filtered_guids) AS total_filtered_guids,\n",
    "    (SELECT COUNT(*) FROM filtered_guids fg\n",
    "     JOIN guids_with_1001 g1001\n",
    "     ON fg.guid = g1001.guid) AS total_with_1001,\n",
    "    (CAST((SELECT COUNT(*) FROM filtered_guids fg\n",
    "           JOIN guids_with_1001 g1001\n",
    "           ON fg.guid = g1001.guid) AS FLOAT) /\n",
    "     CAST((SELECT COUNT(*) FROM filtered_guids) AS FLOAT)) * 100 AS percentage_with_1001;\n",
    "\"\"\"\n",
    "\n",
    "# Execute the query\n",
    "results = duckdb.query(query).df()\n",
    "print(results)"
   ]
  },
  {
   "cell_type": "code",
   "execution_count": 77,
   "metadata": {},
   "outputs": [
    {
     "data": {
      "application/vnd.jupyter.widget-view+json": {
       "model_id": "65ff1b5888dd4d2e92ea4473f09d083b",
       "version_major": 2,
       "version_minor": 0
      },
      "text/plain": [
       "FloatProgress(value=0.0, layout=Layout(width='auto'), style=ProgressStyle(bar_color='black'))"
      ]
     },
     "metadata": {},
     "output_type": "display_data"
    },
    {
     "data": {
      "text/plain": [
       "┌────────────────────────────┬──────────────────┬─────────────────────────────┬───────────────────┐\n",
       "│ num_with_41_or_1001_and_19 │ num_with_neither │ prob_with_41_or_1001_and_19 │ prob_with_neither │\n",
       "│           int64            │      int64       │            float            │       float       │\n",
       "├────────────────────────────┼──────────────────┼─────────────────────────────┼───────────────────┤\n",
       "│                        883 │          2162151 │                0.0003883316 │        0.95088506 │\n",
       "└────────────────────────────┴──────────────────┴─────────────────────────────┴───────────────────┘"
      ]
     },
     "execution_count": 77,
     "metadata": {},
     "output_type": "execute_result"
    }
   ],
   "source": [
    "duckdb.query(\"\"\"\n",
    "WITH guid_counts AS (\n",
    "    SELECT \n",
    "        guid,\n",
    "        COUNT(CASE WHEN event_id = '19' THEN 1 END) AS has_19,\n",
    "        COUNT(CASE WHEN event_id LIKE '%41%' OR event_id LIKE '%1001%' THEN 1 END) AS has_41_or_1001\n",
    "    FROM 'data/errors0700.parquet'\n",
    "    GROUP BY guid\n",
    "),\n",
    "classified_guids AS (\n",
    "    SELECT \n",
    "        COUNT(*) AS total_guids,\n",
    "        COUNT(CASE WHEN has_19 > 0 AND has_41_or_1001 > 0 THEN 1 END) AS count_with_41_or_1001_and_19,\n",
    "        COUNT(CASE WHEN has_19 = 0 AND has_41_or_1001 = 0 THEN 1 END) AS count_with_neither\n",
    "    FROM guid_counts\n",
    ")\n",
    "SELECT \n",
    "    count_with_41_or_1001_and_19 AS num_with_41_or_1001_and_19,\n",
    "    count_with_neither AS num_with_neither,\n",
    "    CAST(count_with_41_or_1001_and_19 AS FLOAT) / total_guids AS prob_with_41_or_1001_and_19,\n",
    "    CAST(count_with_neither AS FLOAT) / total_guids AS prob_with_neither\n",
    "FROM classified_guids;\n",
    "\"\"\")"
   ]
  },
  {
   "cell_type": "code",
   "execution_count": 89,
   "metadata": {},
   "outputs": [
    {
     "data": {
      "application/vnd.jupyter.widget-view+json": {
       "model_id": "12f6831f0ae34659bd8bb1895aac6b9d",
       "version_major": 2,
       "version_minor": 0
      },
      "text/plain": [
       "FloatProgress(value=0.0, layout=Layout(width='auto'), style=ProgressStyle(bar_color='black'))"
      ]
     },
     "metadata": {},
     "output_type": "display_data"
    },
    {
     "data": {
      "image/png": "[encoded data removed]",
      "text/plain": [
       "<Figure size 720x432 with 1 Axes>"
      ]
     },
     "metadata": {
      "needs_background": "light"
     },
     "output_type": "display_data"
    }
   ],
   "source": [
    "parquet_file = 'D:\\CapstoneTyler\\*.parquet'\n",
    "\n",
    "# Connect to DuckDB and execute the query\n",
    "query = f\"\"\"\n",
    "WITH guid_counts AS (\n",
    "    SELECT \n",
    "        guid,\n",
    "        COUNT(CASE WHEN event_id = '19' THEN 1 END) AS e19_count,\n",
    "        MAX(CASE WHEN event_id LIKE '%1001%' THEN 1 ELSE 0 END) AS has_1001,\n",
    "        MAX(CASE WHEN event_id LIKE '%41%' THEN 1 ELSE 0 END) AS has_41\n",
    "    FROM '{parquet_file}'\n",
    "    GROUP BY guid\n",
    "),\n",
    "histogram AS (\n",
    "    SELECT \n",
    "        CASE \n",
    "            WHEN e19_count >= 30 THEN '30+'\n",
    "            ELSE CAST(e19_count AS VARCHAR)\n",
    "        END AS bin,\n",
    "        AVG(has_1001) * 100 AS percent_with_1001,\n",
    "        AVG(has_41) * 100 AS percent_with_41\n",
    "    FROM guid_counts\n",
    "    GROUP BY bin\n",
    ")\n",
    "SELECT \n",
    "    bin,\n",
    "    percent_with_1001,\n",
    "    percent_with_41\n",
    "FROM histogram\n",
    "ORDER BY \n",
    "    CASE \n",
    "        WHEN bin = '30+' THEN 30 \n",
    "        ELSE CAST(bin AS INTEGER) \n",
    "    END;\n",
    "\"\"\"\n",
    "\n",
    "# Execute the query and fetch results\n",
    "df = duckdb.query(query).to_df()\n",
    "\n",
    "# Plotting the histogram\n",
    "plt.figure(figsize=(10, 6))\n",
    "\n",
    "# Adding percentage lines for 1001 and 41\n",
    "plt.plot(df['bin'], df['percent_with_1001'], marker='o', color='orange', label='Percentage with 1001')\n",
    "plt.plot(df['bin'], df['percent_with_41'], marker='o', color='green', label='Percentage with 41')\n",
    "\n",
    "# Adding labels and title\n",
    "plt.xlabel('E19 Count Bins')\n",
    "plt.ylabel('Percentage of GUIDs (%)')\n",
    "plt.title('Percentage of GUIDs with Event ID 1001 and 41 by E19 Occurrences')\n",
    "plt.legend()\n",
    "plt.xticks(rotation=45)\n",
    "plt.grid(axis='y')\n",
    "\n",
    "# Show the plot\n",
    "plt.tight_layout()\n",
    "plt.show()"
   ]
  },
  {
   "cell_type": "code",
   "execution_count": null,
   "metadata": {},
   "outputs": [],
   "source": []
  },
  {
   "cell_type": "code",
   "execution_count": null,
   "metadata": {},
   "outputs": [],
   "source": []
  },
  {
   "cell_type": "code",
   "execution_count": null,
   "metadata": {},
   "outputs": [],
   "source": []
  },
  {
   "cell_type": "code",
   "execution_count": null,
   "metadata": {},
   "outputs": [
    {
     "ename": "KeyError",
     "evalue": "'percent_with_1001'",
     "output_type": "error",
     "traceback": [
      "\u001b[1;31m---------------------------------------------------------------------------\u001b[0m",
      "\u001b[1;31mKeyError\u001b[0m                                  Traceback (most recent call last)",
      "\u001b[1;32mc:\\Users\\Tyler\\anaconda3\\lib\\site-packages\\pandas\\core\\indexes\\base.py\u001b[0m in \u001b[0;36mget_loc\u001b[1;34m(self, key, method, tolerance)\u001b[0m\n\u001b[0;32m   3360\u001b[0m             \u001b[1;32mtry\u001b[0m\u001b[1;33m:\u001b[0m\u001b[1;33m\u001b[0m\u001b[1;33m\u001b[0m\u001b[0m\n\u001b[1;32m-> 3361\u001b[1;33m                 \u001b[1;32mreturn\u001b[0m \u001b[0mself\u001b[0m\u001b[1;33m.\u001b[0m\u001b[0m_engine\u001b[0m\u001b[1;33m.\u001b[0m\u001b[0mget_loc\u001b[0m\u001b[1;33m(\u001b[0m\u001b[0mcasted_key\u001b[0m\u001b[1;33m)\u001b[0m\u001b[1;33m\u001b[0m\u001b[1;33m\u001b[0m\u001b[0m\n\u001b[0m\u001b[0;32m   3362\u001b[0m             \u001b[1;32mexcept\u001b[0m \u001b[0mKeyError\u001b[0m \u001b[1;32mas\u001b[0m \u001b[0merr\u001b[0m\u001b[1;33m:\u001b[0m\u001b[1;33m\u001b[0m\u001b[1;33m\u001b[0m\u001b[0m\n",
      "\u001b[1;32mc:\\Users\\Tyler\\anaconda3\\lib\\site-packages\\pandas\\_libs\\index.pyx\u001b[0m in \u001b[0;36mpandas._libs.index.IndexEngine.get_loc\u001b[1;34m()\u001b[0m\n",
      "\u001b[1;32mc:\\Users\\Tyler\\anaconda3\\lib\\site-packages\\pandas\\_libs\\index.pyx\u001b[0m in \u001b[0;36mpandas._libs.index.IndexEngine.get_loc\u001b[1;34m()\u001b[0m\n",
      "\u001b[1;32mpandas\\_libs\\hashtable_class_helper.pxi\u001b[0m in \u001b[0;36mpandas._libs.hashtable.PyObjectHashTable.get_item\u001b[1;34m()\u001b[0m\n",
      "\u001b[1;32mpandas\\_libs\\hashtable_class_helper.pxi\u001b[0m in \u001b[0;36mpandas._libs.hashtable.PyObjectHashTable.get_item\u001b[1;34m()\u001b[0m\n",
      "\u001b[1;31mKeyError\u001b[0m: 'percent_with_1001'",
      "\nThe above exception was the direct cause of the following exception:\n",
      "\u001b[1;31mKeyError\u001b[0m                                  Traceback (most recent call last)",
      "\u001b[1;32m~\\AppData\\Local\\Temp/ipykernel_24424/1211735959.py\u001b[0m in \u001b[0;36m<module>\u001b[1;34m\u001b[0m\n\u001b[0;32m     16\u001b[0m \u001b[1;33m\u001b[0m\u001b[0m\n\u001b[0;32m     17\u001b[0m \u001b[1;31m# Apply noise\u001b[0m\u001b[1;33m\u001b[0m\u001b[1;33m\u001b[0m\u001b[0m\n\u001b[1;32m---> 18\u001b[1;33m \u001b[0mdf\u001b[0m\u001b[1;33m[\u001b[0m\u001b[1;34m'noisy_percent_with_1001'\u001b[0m\u001b[1;33m]\u001b[0m \u001b[1;33m=\u001b[0m \u001b[0mdf\u001b[0m\u001b[1;33m[\u001b[0m\u001b[1;34m'percent_with_1001'\u001b[0m\u001b[1;33m]\u001b[0m\u001b[1;33m.\u001b[0m\u001b[0mapply\u001b[0m\u001b[1;33m(\u001b[0m\u001b[1;32mlambda\u001b[0m \u001b[0mx\u001b[0m\u001b[1;33m:\u001b[0m \u001b[0madd_laplace_noise\u001b[0m\u001b[1;33m(\u001b[0m\u001b[0mx\u001b[0m\u001b[1;33m,\u001b[0m \u001b[0msensitivity_percentage\u001b[0m\u001b[1;33m,\u001b[0m \u001b[0mepsilon\u001b[0m\u001b[1;33m)\u001b[0m\u001b[1;33m)\u001b[0m\u001b[1;33m\u001b[0m\u001b[1;33m\u001b[0m\u001b[0m\n\u001b[0m\u001b[0;32m     19\u001b[0m \u001b[0mdf\u001b[0m\u001b[1;33m[\u001b[0m\u001b[1;34m'noisy_percent_with_41'\u001b[0m\u001b[1;33m]\u001b[0m \u001b[1;33m=\u001b[0m \u001b[0mdf\u001b[0m\u001b[1;33m[\u001b[0m\u001b[1;34m'percent_with_41'\u001b[0m\u001b[1;33m]\u001b[0m\u001b[1;33m.\u001b[0m\u001b[0mapply\u001b[0m\u001b[1;33m(\u001b[0m\u001b[1;32mlambda\u001b[0m \u001b[0mx\u001b[0m\u001b[1;33m:\u001b[0m \u001b[0madd_laplace_noise\u001b[0m\u001b[1;33m(\u001b[0m\u001b[0mx\u001b[0m\u001b[1;33m,\u001b[0m \u001b[0msensitivity_percentage\u001b[0m\u001b[1;33m,\u001b[0m \u001b[0mepsilon\u001b[0m\u001b[1;33m)\u001b[0m\u001b[1;33m)\u001b[0m\u001b[1;33m\u001b[0m\u001b[1;33m\u001b[0m\u001b[0m\n\u001b[0;32m     20\u001b[0m \u001b[1;33m\u001b[0m\u001b[0m\n",
      "\u001b[1;32mc:\\Users\\Tyler\\anaconda3\\lib\\site-packages\\pandas\\core\\frame.py\u001b[0m in \u001b[0;36m__getitem__\u001b[1;34m(self, key)\u001b[0m\n\u001b[0;32m   3456\u001b[0m             \u001b[1;32mif\u001b[0m \u001b[0mself\u001b[0m\u001b[1;33m.\u001b[0m\u001b[0mcolumns\u001b[0m\u001b[1;33m.\u001b[0m\u001b[0mnlevels\u001b[0m \u001b[1;33m>\u001b[0m \u001b[1;36m1\u001b[0m\u001b[1;33m:\u001b[0m\u001b[1;33m\u001b[0m\u001b[1;33m\u001b[0m\u001b[0m\n\u001b[0;32m   3457\u001b[0m                 \u001b[1;32mreturn\u001b[0m \u001b[0mself\u001b[0m\u001b[1;33m.\u001b[0m\u001b[0m_getitem_multilevel\u001b[0m\u001b[1;33m(\u001b[0m\u001b[0mkey\u001b[0m\u001b[1;33m)\u001b[0m\u001b[1;33m\u001b[0m\u001b[1;33m\u001b[0m\u001b[0m\n\u001b[1;32m-> 3458\u001b[1;33m             \u001b[0mindexer\u001b[0m \u001b[1;33m=\u001b[0m \u001b[0mself\u001b[0m\u001b[1;33m.\u001b[0m\u001b[0mcolumns\u001b[0m\u001b[1;33m.\u001b[0m\u001b[0mget_loc\u001b[0m\u001b[1;33m(\u001b[0m\u001b[0mkey\u001b[0m\u001b[1;33m)\u001b[0m\u001b[1;33m\u001b[0m\u001b[1;33m\u001b[0m\u001b[0m\n\u001b[0m\u001b[0;32m   3459\u001b[0m             \u001b[1;32mif\u001b[0m \u001b[0mis_integer\u001b[0m\u001b[1;33m(\u001b[0m\u001b[0mindexer\u001b[0m\u001b[1;33m)\u001b[0m\u001b[1;33m:\u001b[0m\u001b[1;33m\u001b[0m\u001b[1;33m\u001b[0m\u001b[0m\n\u001b[0;32m   3460\u001b[0m                 \u001b[0mindexer\u001b[0m \u001b[1;33m=\u001b[0m \u001b[1;33m[\u001b[0m\u001b[0mindexer\u001b[0m\u001b[1;33m]\u001b[0m\u001b[1;33m\u001b[0m\u001b[1;33m\u001b[0m\u001b[0m\n",
      "\u001b[1;32mc:\\Users\\Tyler\\anaconda3\\lib\\site-packages\\pandas\\core\\indexes\\base.py\u001b[0m in \u001b[0;36mget_loc\u001b[1;34m(self, key, method, tolerance)\u001b[0m\n\u001b[0;32m   3361\u001b[0m                 \u001b[1;32mreturn\u001b[0m \u001b[0mself\u001b[0m\u001b[1;33m.\u001b[0m\u001b[0m_engine\u001b[0m\u001b[1;33m.\u001b[0m\u001b[0mget_loc\u001b[0m\u001b[1;33m(\u001b[0m\u001b[0mcasted_key\u001b[0m\u001b[1;33m)\u001b[0m\u001b[1;33m\u001b[0m\u001b[1;33m\u001b[0m\u001b[0m\n\u001b[0;32m   3362\u001b[0m             \u001b[1;32mexcept\u001b[0m \u001b[0mKeyError\u001b[0m \u001b[1;32mas\u001b[0m \u001b[0merr\u001b[0m\u001b[1;33m:\u001b[0m\u001b[1;33m\u001b[0m\u001b[1;33m\u001b[0m\u001b[0m\n\u001b[1;32m-> 3363\u001b[1;33m                 \u001b[1;32mraise\u001b[0m \u001b[0mKeyError\u001b[0m\u001b[1;33m(\u001b[0m\u001b[0mkey\u001b[0m\u001b[1;33m)\u001b[0m \u001b[1;32mfrom\u001b[0m \u001b[0merr\u001b[0m\u001b[1;33m\u001b[0m\u001b[1;33m\u001b[0m\u001b[0m\n\u001b[0m\u001b[0;32m   3364\u001b[0m \u001b[1;33m\u001b[0m\u001b[0m\n\u001b[0;32m   3365\u001b[0m         \u001b[1;32mif\u001b[0m \u001b[0mis_scalar\u001b[0m\u001b[1;33m(\u001b[0m\u001b[0mkey\u001b[0m\u001b[1;33m)\u001b[0m \u001b[1;32mand\u001b[0m \u001b[0misna\u001b[0m\u001b[1;33m(\u001b[0m\u001b[0mkey\u001b[0m\u001b[1;33m)\u001b[0m \u001b[1;32mand\u001b[0m \u001b[1;32mnot\u001b[0m \u001b[0mself\u001b[0m\u001b[1;33m.\u001b[0m\u001b[0mhasnans\u001b[0m\u001b[1;33m:\u001b[0m\u001b[1;33m\u001b[0m\u001b[1;33m\u001b[0m\u001b[0m\n",
      "\u001b[1;31mKeyError\u001b[0m: 'percent_with_1001'"
     ]
    }
   ],
   "source": [
    "import duckdb\n",
    "import matplotlib.pyplot as plt\n",
    "import numpy as np\n",
    "\n",
    "parquet_file = r\"D:\\CapstoneTyler\\0007_part_00.parquet\"\n",
    "\n",
    "# Step 1: Get dataset size (number of unique GUIDs)\n",
    "guid_count_query = f\"SELECT COUNT(DISTINCT guid) FROM '{parquet_file}';\"\n",
    "num_guids = duckdb.query(guid_count_query).fetchone()[0]  # Fetch the total count\n",
    "\n",
    "# Step 2: Define epsilon values\n",
    "epsilon_values = np.logspace(-1, 2, 10)  # From 0.1 to 100\n",
    "\n",
    "# Step 3: Compute sensitivity dynamically\n",
    "sensitivity_percentage = 1 / num_guids  # Adjust based on actual dataset size\n",
    "\n",
    "# Store loss values\n",
    "loss_values = []\n",
    "\n",
    "for epsilon in epsilon_values:\n",
    "    # Compute Laplace scale\n",
    "    b = sensitivity_percentage / epsilon\n",
    "\n",
    "    # DuckDB SQL Query with DP Noise\n",
    "    query = f\"\"\"\n",
    "    WITH guid_counts AS (\n",
    "        SELECT \n",
    "            guid,\n",
    "            COUNT(CASE WHEN event_id = '19' THEN 1 END) AS e19_count,\n",
    "            MAX(CASE WHEN event_id LIKE '%1001%' THEN 1 ELSE 0 END) AS has_1001,\n",
    "            MAX(CASE WHEN event_id LIKE '%41%' THEN 1 ELSE 0 END) AS has_41\n",
    "        FROM '{parquet_file}'\n",
    "        GROUP BY guid\n",
    "    ),\n",
    "    histogram AS (\n",
    "        SELECT \n",
    "            CASE \n",
    "                WHEN e19_count >= 30 THEN '30+'\n",
    "                ELSE CAST(e19_count AS VARCHAR)\n",
    "            END AS bin,\n",
    "            AVG(has_1001) * 100 + (-{b} * SIGN(random() - 0.5) * LN(1 - 2 * ABS(random() - 0.5))) AS noisy_percent_with_1001,\n",
    "            AVG(has_41) * 100 + (-{b} * SIGN(random() - 0.5) * LN(1 - 2 * ABS(random() - 0.5))) AS noisy_percent_with_41\n",
    "        FROM guid_counts\n",
    "        GROUP BY bin\n",
    "    )\n",
    "    SELECT \n",
    "        bin,\n",
    "        noisy_percent_with_1001,\n",
    "        noisy_percent_with_41\n",
    "    FROM histogram\n",
    "    ORDER BY \n",
    "        CASE \n",
    "            WHEN bin = '30+' THEN 30 \n",
    "            ELSE CAST(bin AS INTEGER) \n",
    "        END;\n",
    "    \"\"\"\n",
    "\n",
    "    con = duckdb.connect()\n",
    "\n",
    "    # Run query\n",
    "    df_noisy = con.execute(query).fetch_df()\n",
    "\n",
    "    # Close connection\n",
    "    con.close()\n",
    "\n",
    "    # Execute original query (without noise)\n",
    "    df_original_query = query.replace(\"noisy_\", \"\")  # Remove noise from query\n",
    "    df_original = duckdb.query(df_original_query).to_df()\n",
    "\n",
    "    # Compute Mean Absolute Error (MAE)\n",
    "    loss_1001 = np.mean(np.abs(df_original['percent_with_1001'] - df_noisy['noisy_percent_with_1001']))\n",
    "    loss_41 = np.mean(np.abs(df_original['percent_with_41'] - df_noisy['noisy_percent_with_41']))\n",
    "    \n",
    "    loss_values.append((loss_1001 + loss_41) / 2)  # Average loss\n",
    "\n",
    "# Step 4: Plot ε vs. Loss\n",
    "plt.figure(figsize=(8, 6))\n",
    "plt.plot(epsilon_values, loss_values, marker='o', linestyle='-', color='red')\n",
    "plt.xscale('log')  # Log scale for better visualization\n",
    "plt.xlabel('Epsilon (ε)')\n",
    "plt.ylabel('Mean Absolute Error (MAE)')\n",
    "plt.title('Epsilon vs. Differential Privacy Loss (DuckDB)')\n",
    "plt.grid(True)\n",
    "plt.show()"
   ]
  },
  {
   "cell_type": "code",
   "execution_count": null,
   "metadata": {},
   "outputs": [],
   "source": []
  }
 ],
 "metadata": {
  "kernelspec": {
   "display_name": "base",
   "language": "python",
   "name": "python3"
  },
  "language_info": {
   "codemirror_mode": {
    "name": "ipython",
    "version": 3
   },
   "file_extension": ".py",
   "mimetype": "text/x-python",
   "name": "python",
   "nbconvert_exporter": "python",
   "pygments_lexer": "ipython3",
   "version": "3.9.7"
  }
 },
 "nbformat": 4,
 "nbformat_minor": 2
}
