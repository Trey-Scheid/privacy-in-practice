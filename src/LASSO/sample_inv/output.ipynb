{
 "cells": [
  {
   "cell_type": "code",
   "execution_count": null,
   "metadata": {},
   "outputs": [],
   "source": [
    "import os, sys\n",
    "from pathlib import Path\n",
    "import pandas as pd\n",
    "import numpy as np\n",
    "\n",
    "\n",
    "if os.path.exists(os.path.abspath('../src')):\n",
    "    sys.path.append(os.path.abspath('../src'))\n",
    "\n",
    "from feat_build import main\n",
    "from model_build import train"
   ]
  },
  {
   "cell_type": "code",
   "execution_count": null,
   "metadata": {},
   "outputs": [],
   "source": [
    "inv_dir = Path(os.getcwd())\n",
    "proj_dir = inv_dir.parent\n",
    "\n",
    "sample_guids_parquet = 'sample_guid_10000_china_us.parquet'\n",
    "directories = [\"frgnd_backgrnd_apps_v4_hist\", \"web_cat_usage_v2\",\"power_acdc_usage_v4_hist\",\"os_c_state\", \"hw_pack_run_avg_pwr\"]\n",
    "\n",
    "if 'feat.parquet' not in os.listdir(inv_dir / 'out'):\n",
    "    main.generate_features(sample_guids_parquet, inv_dir, directories)"
   ]
  },
  {
   "cell_type": "code",
   "execution_count": null,
   "metadata": {},
   "outputs": [],
   "source": [
    "# Generates Synthetic Data\n",
    "main.generate_synthetic_data(proj_dir / 'dummy_data')"
   ]
  },
  {
   "cell_type": "code",
   "execution_count": null,
   "metadata": {},
   "outputs": [],
   "source": [
    "syn_feat = pd.read_parquet(proj_dir / \"dummy_data\" / \"synthetic_data.parquet\")"
   ]
  },
  {
   "cell_type": "code",
   "execution_count": null,
   "metadata": {},
   "outputs": [],
   "source": [
    "syn_feat.shape"
   ]
  },
  {
   "cell_type": "code",
   "execution_count": null,
   "metadata": {},
   "outputs": [],
   "source": [
    "feat = pd.read_parquet(os.path.join('out', 'feat.parquet'))"
   ]
  },
  {
   "cell_type": "code",
   "execution_count": null,
   "metadata": {},
   "outputs": [],
   "source": [
    "feat.shape"
   ]
  },
  {
   "cell_type": "code",
   "execution_count": null,
   "metadata": {},
   "outputs": [],
   "source": [
    "results = pd.DataFrame(columns=[\"coord_desc\", \"fw_lap\", \"fw_exp\"])\n",
    "for l in [0.25, 0.5, .9, 1, 5, 10, 25, 100]:\n",
    "    print(\"parameter: \", l)\n",
    "    test_mse1, feat_dict, r2 = train.train(feat, \"lasso\", tol=1e-4, l=1/l) \n",
    "    test_mse2, feat_dict, r2 = train.train(feat, \"fw-lasso-lap\", tol=1e-4, l=l, max_iter=2500)\n",
    "    test_mse3, feat_dict, r2 = train.train(feat, \"fw-lasso-exp\", tol=1e-4, l=l, max_iter=2500)\n",
    "    results.loc[l] = [test_mse1, test_mse2, test_mse3]"
   ]
  },
  {
   "cell_type": "code",
   "execution_count": null,
   "metadata": {},
   "outputs": [],
   "source": [
    "results"
   ]
  },
  {
   "cell_type": "code",
   "execution_count": null,
   "metadata": {},
   "outputs": [],
   "source": [
    "results.plot(kind='line');"
   ]
  },
  {
   "cell_type": "code",
   "execution_count": null,
   "metadata": {},
   "outputs": [],
   "source": [
    "test_mse, feat_dict, r2 = train.train(feat, \"fw-lasso\", tol=1e-4, l=10)"
   ]
  },
  {
   "cell_type": "code",
   "execution_count": null,
   "metadata": {},
   "outputs": [],
   "source": [
    "test_mse, feat_dict, r2 = train.train(feat, \"fw-lasso\", tol=1e-4, l=10, epsilon=10, max_iter=5000)"
   ]
  },
  {
   "cell_type": "code",
   "execution_count": null,
   "metadata": {},
   "outputs": [],
   "source": [
    "epss = [0.25, 0.5, 1, 5, 10, 100, 10_000]\n",
    "epsresults = pd.DataFrame(columns=[\"fw_lap\", \"fw_exp\"])\n",
    "for eps in epss:\n",
    "    print(\"parameter: \", eps)\n",
    "    test_mse1, feat_dict, r2 = train.train(syn_feat, \"fw-lasso-lap\", tol=1e-4, l=10, epsilon=eps, max_iter=2500)\n",
    "    test_mse2, feat_dict, r2 = train.train(syn_feat, \"fw-lasso-exp\", tol=1e-4, l=10, epsilon=eps, max_iter=2500)\n",
    "    epsresults.loc[eps] = [test_mse1, test_mse2]"
   ]
  },
  {
   "cell_type": "code",
   "execution_count": null,
   "metadata": {},
   "outputs": [],
   "source": [
    "epsresults"
   ]
  },
  {
   "cell_type": "code",
   "execution_count": null,
   "metadata": {},
   "outputs": [],
   "source": [
    "epsresults.plot(kind='line', logx=True);"
   ]
  },
  {
   "cell_type": "code",
   "execution_count": null,
   "metadata": {},
   "outputs": [],
   "source": []
  }
 ],
 "metadata": {
  "kernelspec": {
   "display_name": "cse156",
   "language": "python",
   "name": "python3"
  },
  "language_info": {
   "codemirror_mode": {
    "name": "ipython",
    "version": 3
   },
   "file_extension": ".py",
   "mimetype": "text/x-python",
   "name": "python",
   "nbconvert_exporter": "python",
   "pygments_lexer": "ipython3",
   "version": "3.11.11"
  },
  "orig_nbformat": 4
 },
 "nbformat": 4,
 "nbformat_minor": 2
}
