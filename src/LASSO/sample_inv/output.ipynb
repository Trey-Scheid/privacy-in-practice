{
 "cells": [
  {
   "cell_type": "markdown",
   "metadata": {},
   "source": [
    "# Sample LASSO task functions"
   ]
  },
  {
   "cell_type": "code",
   "execution_count": null,
   "metadata": {},
   "outputs": [],
   "source": [
    "import os, sys\n",
    "from pathlib import Path\n",
    "import pandas as pd\n",
    "import numpy as np\n",
    "from matplotlib import pyplot as plt\n",
    "\n",
    "\n",
    "# if os.path.exists(os.path.abspath('../src')):\n",
    "#     sys.path.append(os.path.abspath('../src'))\n",
    "\n",
    "from src.feat_build import main\n",
    "from src.model_build import train"
   ]
  },
  {
   "cell_type": "code",
   "execution_count": null,
   "metadata": {},
   "outputs": [],
   "source": [
    "inv_dir = Path(os.getcwd())\n",
    "proj_dir = inv_dir.parent\n",
    "\n",
    "sample_guids_parquet = 'sample_guid_10000_china_us.parquet'\n",
    "directories = [\"frgnd_backgrnd_apps_v4_hist\", \"web_cat_usage_v2\",\"power_acdc_usage_v4_hist\",\"os_c_state\", \"hw_pack_run_avg_pwr\"]\n",
    "\n",
    "if 'feat.parquet' not in os.listdir(inv_dir / 'out'):\n",
    "    main.generate_features(sample_guids_parquet, inv_dir, directories)\n",
    "else:\n",
    "    print('Features already generated')"
   ]
  },
  {
   "cell_type": "code",
   "execution_count": null,
   "metadata": {},
   "outputs": [],
   "source": [
    "# Generates Synthetic Data\n",
    "# main.generate_synthetic_data(proj_dir / 'dummy_data')\n",
    "# syn_feat = pd.read_parquet(proj_dir / \"dummy_data\" / \"synthetic_data.parquet\")\n",
    "# syn_feat.shape"
   ]
  },
  {
   "cell_type": "markdown",
   "metadata": {},
   "source": [
    "Read in Data"
   ]
  },
  {
   "cell_type": "code",
   "execution_count": null,
   "metadata": {},
   "outputs": [],
   "source": [
    "feat = pd.read_parquet(os.path.join('out', 'feat.parquet'))\n",
    "feat.shape"
   ]
  },
  {
   "cell_type": "markdown",
   "metadata": {},
   "source": [
    "Run baseline non-private case with no regularization:"
   ]
  },
  {
   "cell_type": "code",
   "execution_count": null,
   "metadata": {},
   "outputs": [],
   "source": [
    "test_mse, feat_dict, r2 = train.train(feat, \"lasso\", tol=1e-4, l=0)\n",
    "test_mse, r2"
   ]
  },
  {
   "cell_type": "markdown",
   "metadata": {},
   "source": [
    "Compare multiple methods with varying regularization: $l$"
   ]
  },
  {
   "cell_type": "code",
   "execution_count": null,
   "metadata": {},
   "outputs": [],
   "source": [
    "# compare methods\n",
    "results = pd.DataFrame(columns=[\"coord_desc\", \"fw_lap\", \"fw_exp\"])\n",
    "for l in [0.25, 0.5, .9, 1, 5, 10, 25, 100]:\n",
    "    # print(\"parameter: \", l)\n",
    "    test_mse1, feat_dict, r2 = train.train(feat, \"lasso\", tol=1e-4, l=1/l) \n",
    "    test_mse2, feat_dict, r2 = train.train(feat, \"fw-lasso-lap\", tol=1e-4, l=l, max_iter=2500)\n",
    "    test_mse3, feat_dict, r2 = train.train(feat, \"fw-lasso-exp\", tol=1e-4, l=l, max_iter=2500)\n",
    "    results.loc[l] = [test_mse1, test_mse2, test_mse3]"
   ]
  },
  {
   "cell_type": "code",
   "execution_count": null,
   "metadata": {},
   "outputs": [],
   "source": [
    "results"
   ]
  },
  {
   "cell_type": "code",
   "execution_count": null,
   "metadata": {},
   "outputs": [],
   "source": [
    "results.plot(kind='line', logx=True);"
   ]
  },
  {
   "cell_type": "markdown",
   "metadata": {},
   "source": [
    "Test many epsilon values at regularization $l=10$"
   ]
  },
  {
   "cell_type": "code",
   "execution_count": null,
   "metadata": {},
   "outputs": [],
   "source": [
    "epss = [0.25, 0.5, 1, 5, 10, 100, 10_000]\n",
    "epsresults = pd.DataFrame(columns=[\"fw_lap\", \"fw_exp\"])\n",
    "for eps in epss:\n",
    "    print(\"parameter: \", eps)\n",
    "    test_mse1, feat_dict, r2 = train.train(feat, \"fw-lasso-lap\", tol=1e-4, l=10, epsilon=eps, max_iter=2500)\n",
    "    test_mse2, feat_dict, r2 = train.train(feat, \"fw-lasso-exp\", tol=1e-4, l=10, epsilon=eps, max_iter=2500)\n",
    "    epsresults.loc[eps] = [test_mse1, test_mse2]"
   ]
  },
  {
   "cell_type": "code",
   "execution_count": null,
   "metadata": {},
   "outputs": [],
   "source": [
    "epsresults"
   ]
  },
  {
   "cell_type": "code",
   "execution_count": null,
   "metadata": {},
   "outputs": [],
   "source": [
    "epsresults.plot(kind='line', logx=True);"
   ]
  },
  {
   "cell_type": "markdown",
   "metadata": {},
   "source": [
    "Example of using sigmoid utility mapping on exponential implementation:"
   ]
  },
  {
   "cell_type": "code",
   "execution_count": null,
   "metadata": {},
   "outputs": [],
   "source": [
    "l = 10\n",
    "tol = 1e-4\n",
    "max_iter = 2500\n",
    "epss = [0.01, 0.1, 1, 10, 100]\n",
    "epsresults = []\n",
    "\n",
    "for eps in epss:\n",
    "    test_mse, feat_dict, r2 = train.train(feat, \"fw-lasso-exp\", tol=tol, l=l, epsilon=eps, max_iter=max_iter)\n",
    "    \n",
    "    epsresults.append(test_mse)\n",
    "\n",
    "rmses = np.sqrt(np.array(epsresults))\n",
    "max_rmse = np.max(rmses)\n",
    "c = .1 # higher values punish rmse more\n",
    "utility = 2 / (1 + np.exp(c * rmses / max_rmse))"
   ]
  },
  {
   "cell_type": "code",
   "execution_count": null,
   "metadata": {},
   "outputs": [],
   "source": [
    "print(dict().get(\"key\"))"
   ]
  },
  {
   "cell_type": "code",
   "execution_count": null,
   "metadata": {},
   "outputs": [],
   "source": [
    "plt.plot(epss, utility)\n",
    "plt.xlabel('epsilon (log scaled)')\n",
    "plt.ylabel('utility')\n",
    "plt.ylim(0, 1)\n",
    "plt.xscale('log')"
   ]
  },
  {
   "cell_type": "code",
   "execution_count": null,
   "metadata": {},
   "outputs": [],
   "source": []
  }
 ],
 "metadata": {
  "kernelspec": {
   "display_name": "cse156",
   "language": "python",
   "name": "python3"
  },
  "language_info": {
   "codemirror_mode": {
    "name": "ipython",
    "version": 3
   },
   "file_extension": ".py",
   "mimetype": "text/x-python",
   "name": "python",
   "nbconvert_exporter": "python",
   "pygments_lexer": "ipython3",
   "version": "3.11.11"
  },
  "orig_nbformat": 4
 },
 "nbformat": 4,
 "nbformat_minor": 2
}
