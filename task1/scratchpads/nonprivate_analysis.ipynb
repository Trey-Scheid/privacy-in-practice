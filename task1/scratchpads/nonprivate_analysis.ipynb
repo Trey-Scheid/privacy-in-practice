{
 "cells": [
  {
   "cell_type": "code",
   "execution_count": 24,
   "metadata": {},
   "outputs": [],
   "source": [
    "import pandas as pd\n",
    "import numpy as np\n",
    "import statsmodels.api as sm\n",
    "import os\n",
    "import glob\n",
    "import re"
   ]
  },
  {
   "cell_type": "code",
   "execution_count": 6,
   "metadata": {},
   "outputs": [],
   "source": [
    "data_dir = \"../private_data/\"\n",
    "data_fps = glob.glob(os.path.join(data_dir, \"*.csv\"))"
   ]
  },
  {
   "cell_type": "code",
   "execution_count": null,
   "metadata": {},
   "outputs": [],
   "source": [
    "df = pd.read_csv(data_fps[0])\n",
    "df = pd.concat([df, pd.DataFrame({\"has_corrected_error\": [4], \"has_bugcheck\": [4]})], ignore_index=True)\n",
    "df.tail()"
   ]
  },
  {
   "cell_type": "code",
   "execution_count": 48,
   "metadata": {},
   "outputs": [],
   "source": [
    "def nonprivate_analysis(data_fp):\n",
    "    df = pd.read_csv(data_fp)\n",
    "    \n",
    "    if df.groupby([\"has_corrected_error\", \"has_bugcheck\"]).size().shape[0] != 4:\n",
    "        df = pd.concat([df, pd.DataFrame({\"has_corrected_error\": [1], \"has_bugcheck\": [0]})], ignore_index=True)\n",
    "        df = pd.concat([df, pd.DataFrame({\"has_corrected_error\": [1], \"has_bugcheck\": [1]})], ignore_index=True)\n",
    "        \n",
    "    X = df[[\"has_corrected_error\"]]\n",
    "    X = sm.add_constant(X)\n",
    "    y = df[\"has_bugcheck\"]\n",
    "    \n",
    "    model = sm.Logit(y, X)\n",
    "    result = model.fit()\n",
    "    return {\n",
    "        \"pvalue\": result.pvalues.iloc[1],\n",
    "        \"coef\": result.params.iloc[1],\n",
    "        \"llf\": result.llf\n",
    "    }  \n"
   ]
  },
  {
   "cell_type": "code",
   "execution_count": null,
   "metadata": {},
   "outputs": [],
   "source": [
    "results = {\n",
    "    int(re.findall(r'bugcheck_(\\d+)', data_fp)[0]) : nonprivate_analysis(data_fp)\n",
    "    for data_fp in data_fps\n",
    "}"
   ]
  },
  {
   "cell_type": "code",
   "execution_count": null,
   "metadata": {},
   "outputs": [],
   "source": [
    "pd.DataFrame(results).T"
   ]
  }
 ],
 "metadata": {
  "kernelspec": {
   "display_name": "diffpriv",
   "language": "python",
   "name": "python3"
  },
  "language_info": {
   "codemirror_mode": {
    "name": "ipython",
    "version": 3
   },
   "file_extension": ".py",
   "mimetype": "text/x-python",
   "name": "python",
   "nbconvert_exporter": "python",
   "pygments_lexer": "ipython3",
   "version": "3.13.1"
  }
 },
 "nbformat": 4,
 "nbformat_minor": 2
}
