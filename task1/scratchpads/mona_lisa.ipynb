{
 "cells": [
  {
   "cell_type": "code",
   "execution_count": 8,
   "metadata": {},
   "outputs": [],
   "source": [
    "import random\n",
    "import math"
   ]
  },
  {
   "cell_type": "code",
   "execution_count": 1,
   "metadata": {},
   "outputs": [],
   "source": [
    "with open('../../deliverable_assets/mona_lisa_nonprivate.txt', 'r') as f:\n",
    "    mona_lisa_nonprivate = f.read()\n"
   ]
  },
  {
   "cell_type": "code",
   "execution_count": 6,
   "metadata": {},
   "outputs": [],
   "source": [
    "def probabilistic_switch(text, char1, char2, p=0.12):\n",
    "    \"\"\"\n",
    "    Randomly switches occurrences of char1 and char2 with probability p.\n",
    "    \n",
    "    :param text: The ASCII art string.\n",
    "    :param char1: The first character to switch.\n",
    "    :param char2: The second character to switch.\n",
    "    :param p: Probability of switching each character.\n",
    "    :return: A new string with some characters flipped.\n",
    "    \"\"\"\n",
    "    def flip(char):\n",
    "        if char == char1 and random.random() < p:\n",
    "            return char2\n",
    "        elif char == char2 and random.random() < p:\n",
    "            return char1\n",
    "        return char\n",
    "\n",
    "    return ''.join(flip(c) for c in text)"
   ]
  },
  {
   "cell_type": "code",
   "execution_count": 9,
   "metadata": {},
   "outputs": [],
   "source": [
    "def eps_to_prob(eps):\n",
    "    return 1 / (math.exp(eps) + 1)"
   ]
  },
  {
   "cell_type": "code",
   "execution_count": null,
   "metadata": {},
   "outputs": [],
   "source": [
    "epshalf_mona_lisa = probabilistic_switch(mona_lisa_nonprivate, '.', '@', p=eps_to_prob(0.5))\n",
    "eps2_mona_lisa = probabilistic_switch(mona_lisa_nonprivate, '.', '@', p=eps_to_prob(2))\n",
    "eps10_mona_lisa = probabilistic_switch(mona_lisa_nonprivate, '.', '@', p=eps_to_prob(10))"
   ]
  },
  {
   "cell_type": "code",
   "execution_count": 12,
   "metadata": {},
   "outputs": [],
   "source": [
    "with open('../../deliverable_assets/mona_lisa_epshalf.txt', 'w') as f:\n",
    "    f.write(epshalf_mona_lisa)\n",
    "with open('../../deliverable_assets/mona_lisa_eps2.txt', 'w') as f:\n",
    "    f.write(eps2_mona_lisa)\n",
    "with open('../../deliverable_assets/mona_lisa_eps10.txt', 'w') as f:\n",
    "    f.write(eps10_mona_lisa)"
   ]
  },
  {
   "cell_type": "code",
   "execution_count": null,
   "metadata": {},
   "outputs": [],
   "source": [
    "eps_to_prob(0.5), eps_to_prob(2), eps_to_prob(10)"
   ]
  }
 ],
 "metadata": {
  "kernelspec": {
   "display_name": "diffpriv",
   "language": "python",
   "name": "python3"
  },
  "language_info": {
   "codemirror_mode": {
    "name": "ipython",
    "version": 3
   },
   "file_extension": ".py",
   "mimetype": "text/x-python",
   "name": "python",
   "nbconvert_exporter": "python",
   "pygments_lexer": "ipython3",
   "version": "3.13.1"
  }
 },
 "nbformat": 4,
 "nbformat_minor": 2
}
